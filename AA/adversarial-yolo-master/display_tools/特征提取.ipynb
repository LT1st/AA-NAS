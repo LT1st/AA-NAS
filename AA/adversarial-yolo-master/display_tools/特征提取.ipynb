{
 "cells": [
  {
   "cell_type": "code",
   "execution_count": null,
   "outputs": [],
   "source": [
    "import torch\n",
    "import torch.nn as nn\n",
    "import torchvision.models as models\n",
    "import torch.nn.functional as F\n",
    "\n",
    "# Load the pre-trained model and remove the last layer\n",
    "model = models.resnet18(pretrained=True)\n",
    "model = nn.Sequential(*list(model.children())[:-1])  # remove last layer\n",
    "model.eval()  # set the model to evaluation mode\n",
    "\n",
    "# Move model to device\n",
    "device = torch.device('cuda' if torch.cuda.is_available() else 'cpu')\n",
    "model = model.to(device)\n",
    "\n",
    "def extract_features(img):\n",
    "    # Assume img is a BCHW tensor\n",
    "    img = img.to(device)  # move image to device\n",
    "    with torch.no_grad():\n",
    "        features = model(img)  # extract features\n",
    "    return features\n",
    "\n",
    "def resize_features(features, size=( 1, 1)):\n",
    "    # Resize features to a fixed size\n",
    "    features = F.interpolate(features, size=size, mode='bilinear', align_corners=False)\n",
    "    return features\n",
    "\n",
    "# Assume img is your input image with shape BCHW\n",
    "# img = ...\n",
    "# 生成随机BCHW向量\n",
    "batch_size = 4\n",
    "channels = 3\n",
    "height = 256\n",
    "width = 256\n",
    "img = torch.randn(batch_size, channels, height, width)\n",
    "\n",
    "# 4 512 1 1\n",
    "# Extract features\n",
    "features = extract_features(img)\n",
    "\n",
    "# Resize features\n",
    "features_resized = resize_features(features)\n",
    "\n",
    "print(features_resized.shape)  # Should be [B, 1, 100, 100]"
   ],
   "metadata": {
    "collapsed": false
   }
  },
  {
   "cell_type": "code",
   "execution_count": null,
   "outputs": [],
   "source": [
    "def extract_cnn(tensor, model='resnet18'):\n",
    "    \"\"\"\n",
    "    提取CNN特徵向量\n",
    "    https://zhuanlan.zhihu.com/p/157134695?from_voters_page=true\n",
    "    \"\"\"\n",
    "    tensor = tensor.to(self.cal_device).clone()\n",
    "    if len(tensor.shape) == 5:\n",
    "        tensor = self.dim5_to_dim4(tensor)\n",
    "    def extract_features(img):\n",
    "        if self.model is None:\n",
    "            # Load the pre-trained model and remove the last layer\n",
    "            model = models.resnet18(pretrained=True)\n",
    "            model = nn.Sequential(*list(model.children())[:-1])  # remove last layer\n",
    "            model.eval()  # set the model to evaluation mode\n",
    "            self.model = model.to(self.cal_device)\n",
    "        # Assume img is a BCHW tensor\n",
    "        img = img.to( self.cal_device)  # move image to device\n",
    "        with torch.no_grad():\n",
    "            features = self.model(img)  # extract features\n",
    "        return features\n",
    "\n",
    "    def resize_features(features, size=(1, 1)):\n",
    "        # Resize features to a fixed size\n",
    "        features = F.interpolate(features, size=size, mode='bilinear', align_corners=False)\n",
    "        return features\n",
    "\n",
    "    feature = extract_features(tensor)\n",
    "    feature_resized = resize_features(feature)\n",
    "\n",
    "    return feature_resized"
   ],
   "metadata": {
    "collapsed": false
   }
  },
  {
   "cell_type": "code",
   "execution_count": null,
   "metadata": {
    "collapsed": true
   },
   "outputs": [],
   "source": []
  }
 ],
 "metadata": {
  "kernelspec": {
   "display_name": "Python 3",
   "language": "python",
   "name": "python3"
  },
  "language_info": {
   "codemirror_mode": {
    "name": "ipython",
    "version": 2
   },
   "file_extension": ".py",
   "mimetype": "text/x-python",
   "name": "python",
   "nbconvert_exporter": "python",
   "pygments_lexer": "ipython2",
   "version": "2.7.6"
  }
 },
 "nbformat": 4,
 "nbformat_minor": 0
}
