{
 "cells": [
  {
   "cell_type": "code",
   "execution_count": 1,
   "metadata": {
    "collapsed": true,
    "ExecuteTime": {
     "start_time": "2023-05-30T08:29:37.711926Z",
     "end_time": "2023-05-30T08:29:38.637995Z"
    }
   },
   "outputs": [
    {
     "name": "stderr",
     "output_type": "stream",
     "text": [
      "PyGEOS is not installed and thus segmentation related functionality will not work\n"
     ]
    },
    {
     "ename": "ModuleNotFoundError",
     "evalue": "No module named 'brambox.boxes'",
     "output_type": "error",
     "traceback": [
      "\u001B[1;31m---------------------------------------------------------------------------\u001B[0m",
      "\u001B[1;31mModuleNotFoundError\u001B[0m                       Traceback (most recent call last)",
      "Cell \u001B[1;32mIn[1], line 2\u001B[0m\n\u001B[0;32m      1\u001B[0m get_ipython()\u001B[38;5;241m.\u001B[39mrun_line_magic(\u001B[38;5;124m'\u001B[39m\u001B[38;5;124mmatplotlib\u001B[39m\u001B[38;5;124m'\u001B[39m, \u001B[38;5;124m'\u001B[39m\u001B[38;5;124minline\u001B[39m\u001B[38;5;124m'\u001B[39m)\n\u001B[1;32m----> 2\u001B[0m \u001B[38;5;28;01mimport\u001B[39;00m \u001B[38;5;21;01mbrambox\u001B[39;00m\u001B[38;5;21;01m.\u001B[39;00m\u001B[38;5;21;01mboxes\u001B[39;00m \u001B[38;5;28;01mas\u001B[39;00m \u001B[38;5;21;01mbbb\u001B[39;00m\n\u001B[0;32m      3\u001B[0m \u001B[38;5;28;01mimport\u001B[39;00m \u001B[38;5;21;01mmatplotlib\u001B[39;00m\u001B[38;5;21;01m.\u001B[39;00m\u001B[38;5;21;01mpyplot\u001B[39;00m \u001B[38;5;28;01mas\u001B[39;00m \u001B[38;5;21;01mplt\u001B[39;00m\n",
      "\u001B[1;31mModuleNotFoundError\u001B[0m: No module named 'brambox.boxes'"
     ]
    }
   ],
   "source": [
    "%matplotlib inline\n",
    "import brambox.boxes as bbb\n",
    "import matplotlib.pyplot as plt"
   ]
  },
  {
   "cell_type": "code",
   "execution_count": null,
   "outputs": [],
   "source": [
    "# annotations = bbb.parse('anno_darknet', 'inria/Test/pos/yolo-labels/', class_label_map={0: 'person'}, image_width=1., image_height=1.)"
   ],
   "metadata": {
    "collapsed": false
   }
  },
  {
   "cell_type": "code",
   "execution_count": null,
   "metadata": {
    "collapsed": true
   },
   "outputs": [],
   "source": [
    "# annotations = bbb.parse('anno_darknet', 'testing/clean/yolo-labels/', class_label_map={0: 'person'}, image_width=1., image_height=1.)\n",
    "annotations = bbb.parse('anno_darknet', 'testing/clean/yolo-labels/', class_label_map={0: 'person'},image_dims=lambda x: (1, 1))\n",
    "patch_simen = bbb.parse('det_coco', 'patch_simen.json', class_label_map={0: 'person'})\n",
    "patch_up = bbb.parse('det_coco', 'patch_up.json', class_label_map={0: 'person'})\n",
    "clean_results = bbb.parse('det_coco', 'clean_results.json', class_label_map={0: 'person'})\n",
    "noise_results = bbb.parse('det_coco', 'noise_results.json', class_label_map={0: 'person'})\n",
    "class_results = bbb.parse('det_coco', 'class_shift.json', class_label_map={0: 'person'})\n",
    "class_only = bbb.parse('det_coco', 'class_only.json', class_label_map={0: 'person'})"
   ]
  },
  {
   "cell_type": "code",
   "execution_count": null,
   "metadata": {},
   "outputs": [],
   "source": [
    "plt.figure()\n",
    "teddy = bbb.pr(patch_simen, annotations)['person']\n",
    "up = bbb.pr(patch_up, annotations)['person']\n",
    "noise = bbb.pr(noise_results, annotations)['person']\n",
    "clean = bbb.pr(clean_results, annotations)['person']\n",
    "class_shift = bbb.pr(class_results, annotations)['person']\n",
    "class_only_pr = bbb.pr(class_only, annotations)['person']\n",
    "\n",
    "\n",
    "\n",
    "#ap = bbb.ap(teddy[0], teddy[1])\n",
    "#plt.plot(teddy[1], teddy[0], label=f'Teddy: mAP: {round(ap*100, 2)}%')\n",
    "\n",
    "plt.plot([0, 1.05], [0, 1.05], '--', color='gray')\n",
    "\n",
    "ap = bbb.ap(clean[0], clean[1])\n",
    "plt.plot(clean[1], clean[0], label=f'CLEAN: AP: {round(ap*100, 2)}%')\n",
    "\n",
    "ap = bbb.ap(noise[0], noise[1])\n",
    "plt.plot(noise[1], noise[0], label=f'NOISE: AP: {round(ap*100, 2)}%')\n",
    "\n",
    "ap = bbb.ap(class_shift[0], class_shift[1])\n",
    "plt.plot(class_shift[1], class_shift[0], label=f'OBJ-CLS: AP: {round(ap*100, 2)}%')\n",
    "\n",
    "ap = bbb.ap(up[0], up[1])\n",
    "plt.plot(up[1], up[0], label=f'OBJ: AP: {round(ap*100, 2)}%')\n",
    "\n",
    "ap = bbb.ap(class_only_pr[0], class_only_pr[1])\n",
    "plt.plot(class_only_pr[1], class_only_pr[0], label=f'CLS: AP: {round(ap*100, 2)}%')\n",
    "\n",
    "#plt.gcf().suptitle('PR-curve')\n",
    "plt.gca().set_ylabel('Precision')\n",
    "plt.gca().set_xlabel('Recall')\n",
    "plt.gca().set_xlim([0, 1.05])\n",
    "plt.gca().set_ylim([0, 1.05])\n",
    "plt.gca().legend(loc=4)\n",
    "plt.savefig('pr-curve.eps')\n",
    "plt.show()"
   ]
  },
  {
   "cell_type": "code",
   "execution_count": null,
   "metadata": {},
   "outputs": [],
   "source": [
    "def thresh_dets(dets, thresh):\n",
    "    thresholded = {}\n",
    "    for name in dets:\n",
    "        thresholded[name] = [d for d in dets[name] if d.confidence > 0.4]\n",
    "        \n",
    "    return thresholded\n",
    "\n",
    "thresh = 0.5\n",
    "    \n",
    "teddy_t = bbb.pr(thresh_dets(patch_simen, thresh), annotations)['person']\n",
    "up_t = bbb.pr(thresh_dets(patch_up, thresh), annotations)['person']\n",
    "noise_t = bbb.pr(thresh_dets(noise_results, thresh), annotations)['person']\n",
    "clean_t = bbb.pr(thresh_dets(clean_results, thresh), annotations)['person']\n",
    "class_shift_t = bbb.pr(thresh_dets(class_results, thresh), annotations)['person']\n",
    "class_only_t = bbb.pr(thresh_dets(class_only, thresh), annotations)['person']\n",
    "\n",
    "plt.figure()\n",
    "\n",
    "plt.plot([0, 1], [0, 1], 'k--')\n",
    "\n",
    "ap = bbb.ap(clean_t[0], clean_t[1])\n",
    "plt.plot(clean_t[1], clean_t[0], label=f'Original: AP: {round(ap*100, 2)}%, recall: {round(clean_t[1][-1]*100, 2)}%')\n",
    "\n",
    "ap = bbb.ap(class_shift_t[0], class_shift_t[1])\n",
    "plt.plot(class_shift_t[1], class_shift_t[0], label=f'OBJ-CLS: AP: {round(ap*100, 2)}%, recall: {round(class_shift_t[1][-1]*100, 2)}%')\n",
    "\n",
    "ap = bbb.ap(noise_t[0], noise_t[1])\n",
    "plt.plot(noise_t[1], noise_t[0], label=f'NOISE: AP: {round(ap*100, 2)}%, recall: {round(noise_t[1][-1]*100, 2)}%')\n",
    "         \n",
    "ap = bbb.ap(up_t[0], up_t[1])\n",
    "plt.plot(up_t[1], up_t[0], label=f'OBJ: mAP: {round(ap*100, 2)}%, recall: {round(up_t[1][-1]*100, 2)}%')\n",
    "\n",
    "ap = bbb.ap(class_only_t[0], class_only_t[1])\n",
    "plt.plot(class_only_t[1], class_only_t[0], label=f'CLS: AP: {round(ap*100, 2)}%, recall: {round(class_only_t[1][-1]*100, 2)}%')\n",
    "\n",
    "plt.gcf().suptitle('PR-curve')\n",
    "plt.gca().set_ylabel('Precision')\n",
    "plt.gca().set_xlabel('Recall')\n",
    "plt.gca().set_xlim([0, 1.05])\n",
    "plt.gca().set_ylim([0, 1.05])\n",
    "plt.gca().legend(loc=4)\n",
    "plt.show()"
   ]
  },
  {
   "cell_type": "code",
   "execution_count": null,
   "metadata": {
    "collapsed": true
   },
   "outputs": [],
   "source": []
  }
 ],
 "metadata": {
  "kernelspec": {
   "display_name": "Python 3",
   "language": "python",
   "name": "python3"
  },
  "language_info": {
   "codemirror_mode": {
    "name": "ipython",
    "version": 3
   },
   "file_extension": ".py",
   "mimetype": "text/x-python",
   "name": "python",
   "nbconvert_exporter": "python",
   "pygments_lexer": "ipython3",
   "version": "3.6.0"
  }
 },
 "nbformat": 4,
 "nbformat_minor": 2
}
