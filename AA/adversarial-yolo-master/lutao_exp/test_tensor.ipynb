{
 "cells": [
  {
   "cell_type": "code",
   "execution_count": null,
   "metadata": {
    "collapsed": true,
    "pycharm": {
     "is_executing": true
    }
   },
   "outputs": [],
   "source": [
    "# 原始张量\n",
    "tensor = torch.tensor([[1],\n",
    "                       [3]])\n",
    "print(tensor.size())\n",
    "# 扩展维度大小\n",
    "# size = (2, 3)\n",
    "\n",
    "# 使用 expand 进行维度扩展\n",
    "expanded_tensor = tensor.expand((-1,2))\n",
    "# RuntimeError: The expanded size of the tensor (3) must match the existing size (2) at non-singleton dimension 2.\n",
    "# Target sizes: [-1, -1, 3].  Tensor sizes: [2, 2]\n",
    "print(expanded_tensor.size())"
   ]
  },
  {
   "cell_type": "code",
   "execution_count": null,
   "outputs": [],
   "source": [],
   "metadata": {
    "collapsed": false
   }
  }
 ],
 "metadata": {
  "kernelspec": {
   "display_name": "Python 3",
   "language": "python",
   "name": "python3"
  },
  "language_info": {
   "codemirror_mode": {
    "name": "ipython",
    "version": 2
   },
   "file_extension": ".py",
   "mimetype": "text/x-python",
   "name": "python",
   "nbconvert_exporter": "python",
   "pygments_lexer": "ipython2",
   "version": "2.7.6"
  }
 },
 "nbformat": 4,
 "nbformat_minor": 0
}
